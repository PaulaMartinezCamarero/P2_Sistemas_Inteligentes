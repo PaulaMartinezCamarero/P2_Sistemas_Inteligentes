{
 "cells": [
  {
   "cell_type": "markdown",
   "id": "8425882c-c2be-44c4-a51a-6b4ee30ce917",
   "metadata": {},
   "source": [
    "TAREA 1:"
   ]
  },
  {
   "cell_type": "code",
   "execution_count": null,
   "id": "fecc4d4c-6ab5-42ac-805c-408feae774a2",
   "metadata": {},
   "outputs": [],
   "source": [
    "from modularizacion import crea_diccionario"
   ]
  },
  {
   "cell_type": "code",
   "execution_count": 2,
   "id": "0e35ba6c-0953-4fb2-bdc4-be7e38a6d763",
   "metadata": {},
   "outputs": [
    {
     "name": "stdout",
     "output_type": "stream",
     "text": [
      "{0: '0', 1: '1', 2: '2', 3: '3', 4: '4', 5: '5', 6: '6', 7: '7', 8: '8', 9: '9', 10: 'A', 11: 'B', 12: 'C', 13: 'D', 14: 'E', 15: 'F', 16: 'G', 17: 'H', 18: 'I', 19: 'J', 20: 'K', 21: 'L', 22: 'M', 23: 'N', 24: 'O', 25: 'P', 26: 'Q', 27: 'R', 28: 'S', 29: 'T', 30: 'U', 31: 'V', 32: 'W', 33: 'X', 34: 'Y', 35: 'Z', 36: 'a', 37: 'b', 38: 'd', 39: 'e', 40: 'f', 41: 'g', 42: 'h', 43: 'n', 44: 'q', 45: 'r', 46: 't'}\n"
     ]
    }
   ],
   "source": [
    "archivo_claves=\"./MNIST_balanced/MNIST_balanced/claves_ASCII.txt\"\n",
    "caracteres=crea_diccionario(archivo_claves)\n",
    "print(caracteres)"
   ]
  },
  {
   "cell_type": "code",
   "execution_count": null,
   "id": "14168565-d570-4e46-88bf-7055a09a00c7",
   "metadata": {},
   "outputs": [],
   "source": []
  }
 ],
 "metadata": {
  "kernelspec": {
   "display_name": "Python 3 (ipykernel)",
   "language": "python",
   "name": "python3"
  },
  "language_info": {
   "codemirror_mode": {
    "name": "ipython",
    "version": 3
   },
   "file_extension": ".py",
   "mimetype": "text/x-python",
   "name": "python",
   "nbconvert_exporter": "python",
   "pygments_lexer": "ipython3",
   "version": "3.10.15"
  }
 },
 "nbformat": 4,
 "nbformat_minor": 5
}
